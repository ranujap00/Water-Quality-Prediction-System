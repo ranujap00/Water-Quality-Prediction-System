{
 "cells": [
  {
   "cell_type": "code",
   "execution_count": 3,
   "metadata": {},
   "outputs": [],
   "source": [
    "import pandas as pd\n",
    "import numpy as np\n",
    "from sklearn.preprocessing import LabelEncoder\n",
    "from sklearn.compose import ColumnTransformer\n",
    "from sklearn.preprocessing import OneHotEncoder\n",
    "from sklearn.model_selection import train_test_split\n",
    "from sklearn.preprocessing import StandardScaler\n",
    "from sklearn.linear_model import LogisticRegression\n",
    "from sklearn.metrics import confusion_matrix, accuracy_score\n",
    "from sklearn.svm import SVC\n",
    "from sklearn.neighbors import KNeighborsClassifier\n",
    "import joblib\n",
    "from sklearn.impute import SimpleImputer\n",
    "\n",
    "from sklearn.model_selection import learning_curve\n",
    "import matplotlib.pyplot as plt"
   ]
  },
  {
   "cell_type": "code",
   "execution_count": 4,
   "metadata": {},
   "outputs": [],
   "source": [
    "df = pd.read_csv('Water Quality Prediction.csv')\n",
    "pd.set_option('display.max_columns', None)\n",
    "# pd.set_option('display.max_rows', None)"
   ]
  },
  {
   "cell_type": "code",
   "execution_count": 5,
   "metadata": {},
   "outputs": [],
   "source": [
    "# get a sample of 500000 rows\n",
    "df = df.sample(n=200000, random_state=42)"
   ]
  },
  {
   "cell_type": "code",
   "execution_count": 6,
   "metadata": {},
   "outputs": [
    {
     "data": {
      "text/plain": [
       "Index                        0\n",
       "pH                        3982\n",
       "Iron                      1328\n",
       "Nitrate                   3543\n",
       "Chloride                  5890\n",
       "Lead                       880\n",
       "Zinc                      5296\n",
       "Color                      202\n",
       "Turbidity                 1653\n",
       "Fluoride                  6324\n",
       "Copper                    6756\n",
       "Odor                      5970\n",
       "Sulfate                   6477\n",
       "Conductivity              5569\n",
       "Chlorine                  1915\n",
       "Manganese                 3622\n",
       "Total Dissolved Solids      56\n",
       "Source                    2925\n",
       "Water Temperature         5536\n",
       "Air Temperature            956\n",
       "Month                     3211\n",
       "Day                       3330\n",
       "Time of Day               3864\n",
       "Potability                   0\n",
       "dtype: int64"
      ]
     },
     "execution_count": 6,
     "metadata": {},
     "output_type": "execute_result"
    }
   ],
   "source": [
    "df.isna().sum()"
   ]
  },
  {
   "cell_type": "code",
   "execution_count": 7,
   "metadata": {},
   "outputs": [],
   "source": [
    "# df.dropna(inplace=True)"
   ]
  },
  {
   "cell_type": "code",
   "execution_count": 8,
   "metadata": {},
   "outputs": [
    {
     "name": "stdout",
     "output_type": "stream",
     "text": [
      "No duplicate rows\n"
     ]
    }
   ],
   "source": [
    "# check for duplicate rows\n",
    "duplicate_rows = df[df.duplicated()]\n",
    "if duplicate_rows.count().sum() == 0:\n",
    "   print(\"No duplicate rows\")\n",
    "else:\n",
    "   print(\"Duplicate rows are present\")"
   ]
  },
  {
   "cell_type": "code",
   "execution_count": 9,
   "metadata": {},
   "outputs": [],
   "source": [
    "# remove month and index columns\n",
    "df = df.drop(['Month', 'Index', 'Source', 'Zinc', 'Lead', 'Time of Day'], axis=1) # axis=1 indicates we are dropping a column, not a row\n"
   ]
  },
  {
   "cell_type": "code",
   "execution_count": 10,
   "metadata": {},
   "outputs": [],
   "source": [
    "# drop rows with null values in color and source columns\n",
    "df = df.dropna(subset=[\"Color\"])\n",
    "# df"
   ]
  },
  {
   "cell_type": "code",
   "execution_count": 11,
   "metadata": {},
   "outputs": [
    {
     "data": {
      "text/html": [
       "<div>\n",
       "<style scoped>\n",
       "    .dataframe tbody tr th:only-of-type {\n",
       "        vertical-align: middle;\n",
       "    }\n",
       "\n",
       "    .dataframe tbody tr th {\n",
       "        vertical-align: top;\n",
       "    }\n",
       "\n",
       "    .dataframe thead th {\n",
       "        text-align: right;\n",
       "    }\n",
       "</style>\n",
       "<table border=\"1\" class=\"dataframe\">\n",
       "  <thead>\n",
       "    <tr style=\"text-align: right;\">\n",
       "      <th></th>\n",
       "      <th>pH</th>\n",
       "      <th>Iron</th>\n",
       "      <th>Nitrate</th>\n",
       "      <th>Chloride</th>\n",
       "      <th>Color</th>\n",
       "      <th>Turbidity</th>\n",
       "      <th>Fluoride</th>\n",
       "      <th>Copper</th>\n",
       "      <th>Odor</th>\n",
       "      <th>Sulfate</th>\n",
       "      <th>Conductivity</th>\n",
       "      <th>Chlorine</th>\n",
       "      <th>Manganese</th>\n",
       "      <th>Total Dissolved Solids</th>\n",
       "      <th>Water Temperature</th>\n",
       "      <th>Air Temperature</th>\n",
       "      <th>Month</th>\n",
       "      <th>Day</th>\n",
       "      <th>Potability</th>\n",
       "    </tr>\n",
       "  </thead>\n",
       "  <tbody>\n",
       "    <tr>\n",
       "      <th>781974</th>\n",
       "      <td>7.004799</td>\n",
       "      <td>0.000006</td>\n",
       "      <td>7.114755</td>\n",
       "      <td>120.527769</td>\n",
       "      <td>Near Colorless</td>\n",
       "      <td>0.613998</td>\n",
       "      <td>1.758451</td>\n",
       "      <td>0.255472</td>\n",
       "      <td>2.092090</td>\n",
       "      <td>120.745502</td>\n",
       "      <td>241.446886</td>\n",
       "      <td>3.099394</td>\n",
       "      <td>4.469775e-02</td>\n",
       "      <td>257.717511</td>\n",
       "      <td>22.900917</td>\n",
       "      <td>54.310518</td>\n",
       "      <td>January</td>\n",
       "      <td>7.0</td>\n",
       "      <td>0</td>\n",
       "    </tr>\n",
       "    <tr>\n",
       "      <th>937737</th>\n",
       "      <td>8.299823</td>\n",
       "      <td>0.001846</td>\n",
       "      <td>4.713490</td>\n",
       "      <td>220.284903</td>\n",
       "      <td>Faint Yellow</td>\n",
       "      <td>1.543039</td>\n",
       "      <td>4.341496</td>\n",
       "      <td>0.316341</td>\n",
       "      <td>3.077392</td>\n",
       "      <td>228.707208</td>\n",
       "      <td>282.409585</td>\n",
       "      <td>3.749201</td>\n",
       "      <td>8.410000e-05</td>\n",
       "      <td>92.378364</td>\n",
       "      <td>64.103574</td>\n",
       "      <td>72.016863</td>\n",
       "      <td>March</td>\n",
       "      <td>6.0</td>\n",
       "      <td>0</td>\n",
       "    </tr>\n",
       "    <tr>\n",
       "      <th>907828</th>\n",
       "      <td>8.077128</td>\n",
       "      <td>0.001998</td>\n",
       "      <td>6.999236</td>\n",
       "      <td>157.332074</td>\n",
       "      <td>Faint Yellow</td>\n",
       "      <td>0.363389</td>\n",
       "      <td>0.537449</td>\n",
       "      <td>0.032343</td>\n",
       "      <td>1.306127</td>\n",
       "      <td>136.219129</td>\n",
       "      <td>214.876158</td>\n",
       "      <td>2.215031</td>\n",
       "      <td>1.954040e-04</td>\n",
       "      <td>187.093504</td>\n",
       "      <td>26.600483</td>\n",
       "      <td>74.400507</td>\n",
       "      <td>October</td>\n",
       "      <td>6.0</td>\n",
       "      <td>0</td>\n",
       "    </tr>\n",
       "    <tr>\n",
       "      <th>784628</th>\n",
       "      <td>7.813995</td>\n",
       "      <td>0.001145</td>\n",
       "      <td>6.168141</td>\n",
       "      <td>200.820979</td>\n",
       "      <td>Near Colorless</td>\n",
       "      <td>0.731114</td>\n",
       "      <td>0.073730</td>\n",
       "      <td>0.700787</td>\n",
       "      <td>0.440061</td>\n",
       "      <td>72.935525</td>\n",
       "      <td>342.590598</td>\n",
       "      <td>3.030572</td>\n",
       "      <td>4.894026e-02</td>\n",
       "      <td>334.951667</td>\n",
       "      <td>16.434954</td>\n",
       "      <td>98.879709</td>\n",
       "      <td>February</td>\n",
       "      <td>11.0</td>\n",
       "      <td>0</td>\n",
       "    </tr>\n",
       "    <tr>\n",
       "      <th>662460</th>\n",
       "      <td>6.691067</td>\n",
       "      <td>0.506861</td>\n",
       "      <td>8.280426</td>\n",
       "      <td>143.161413</td>\n",
       "      <td>Colorless</td>\n",
       "      <td>0.026614</td>\n",
       "      <td>1.532804</td>\n",
       "      <td>0.161636</td>\n",
       "      <td>2.780277</td>\n",
       "      <td>300.992636</td>\n",
       "      <td>291.962088</td>\n",
       "      <td>3.105734</td>\n",
       "      <td>3.490000e-18</td>\n",
       "      <td>211.253831</td>\n",
       "      <td>12.467716</td>\n",
       "      <td>46.854295</td>\n",
       "      <td>February</td>\n",
       "      <td>20.0</td>\n",
       "      <td>0</td>\n",
       "    </tr>\n",
       "  </tbody>\n",
       "</table>\n",
       "</div>"
      ],
      "text/plain": [
       "              pH      Iron   Nitrate    Chloride           Color  Turbidity  \\\n",
       "781974  7.004799  0.000006  7.114755  120.527769  Near Colorless   0.613998   \n",
       "937737  8.299823  0.001846  4.713490  220.284903    Faint Yellow   1.543039   \n",
       "907828  8.077128  0.001998  6.999236  157.332074    Faint Yellow   0.363389   \n",
       "784628  7.813995  0.001145  6.168141  200.820979  Near Colorless   0.731114   \n",
       "662460  6.691067  0.506861  8.280426  143.161413       Colorless   0.026614   \n",
       "\n",
       "        Fluoride    Copper      Odor     Sulfate  Conductivity  Chlorine  \\\n",
       "781974  1.758451  0.255472  2.092090  120.745502    241.446886  3.099394   \n",
       "937737  4.341496  0.316341  3.077392  228.707208    282.409585  3.749201   \n",
       "907828  0.537449  0.032343  1.306127  136.219129    214.876158  2.215031   \n",
       "784628  0.073730  0.700787  0.440061   72.935525    342.590598  3.030572   \n",
       "662460  1.532804  0.161636  2.780277  300.992636    291.962088  3.105734   \n",
       "\n",
       "           Manganese  Total Dissolved Solids  Water Temperature  \\\n",
       "781974  4.469775e-02              257.717511          22.900917   \n",
       "937737  8.410000e-05               92.378364          64.103574   \n",
       "907828  1.954040e-04              187.093504          26.600483   \n",
       "784628  4.894026e-02              334.951667          16.434954   \n",
       "662460  3.490000e-18              211.253831          12.467716   \n",
       "\n",
       "        Air Temperature     Month   Day  Potability  \n",
       "781974        54.310518   January   7.0           0  \n",
       "937737        72.016863     March   6.0           0  \n",
       "907828        74.400507   October   6.0           0  \n",
       "784628        98.879709  February  11.0           0  \n",
       "662460        46.854295  February  20.0           0  "
      ]
     },
     "execution_count": 11,
     "metadata": {},
     "output_type": "execute_result"
    }
   ],
   "source": [
    "df.head()"
   ]
  },
  {
   "cell_type": "code",
   "execution_count": 12,
   "metadata": {},
   "outputs": [],
   "source": [
    "# Identify the numeric columns\n",
    "numeric_columns = df.select_dtypes(include=['number']).columns\n",
    "\n",
    "# # Create a SimpleImputer and apply it to the numeric columns\n",
    "imputer = SimpleImputer(strategy='median')  # You can choose a different strategy if needed\n",
    "df[numeric_columns] = imputer.fit_transform(df[numeric_columns])\n"
   ]
  },
  {
   "cell_type": "code",
   "execution_count": 13,
   "metadata": {},
   "outputs": [],
   "source": [
    "# we need x, y values as numpy arrays\n",
    "X = df.iloc[:, 0:-1].values\n",
    "Y = df.iloc[:, -1].values\n",
    "\n",
    "# X = df.iloc[:, 1:-4].values\n",
    "# Y = df.iloc[:, -1].values"
   ]
  },
  {
   "cell_type": "code",
   "execution_count": 15,
   "metadata": {},
   "outputs": [
    {
     "data": {
      "text/plain": [
       "array([7.004799273, 6.13e-06, 7.114755278, 120.5277688, 'Near Colorless',\n",
       "       0.613997908, 1.758450685, 0.255472008, 2.092090468, 120.745502,\n",
       "       241.4468855, 3.099393646, 0.044697746, 257.7175114, 22.90091727,\n",
       "       54.31051792, 'January', 7.0], dtype=object)"
      ]
     },
     "execution_count": 15,
     "metadata": {},
     "output_type": "execute_result"
    }
   ],
   "source": [
    "X[0]"
   ]
  },
  {
   "cell_type": "code",
   "execution_count": 12,
   "metadata": {},
   "outputs": [],
   "source": [
    "# Label Encode categorical values (1, 2, 3 ... values)\n",
    "le = LabelEncoder()\n",
    "X[:, 4] = le.fit_transform(X[:, 4])\n"
   ]
  },
  {
   "cell_type": "code",
   "execution_count": 13,
   "metadata": {},
   "outputs": [
    {
     "data": {
      "text/plain": [
       "array([[0.0, 0.0, 0.0, ..., 22.90091727, 54.31051792, 7.0],\n",
       "       [0.0, 1.0, 0.0, ..., 64.10357372, 72.01686324, 6.0],\n",
       "       [0.0, 1.0, 0.0, ..., 26.60048284, 74.40050714, 6.0],\n",
       "       ...,\n",
       "       [0.0, 0.0, 0.0, ..., 26.49301707, 34.48383196, 14.0],\n",
       "       [1.0, 0.0, 0.0, ..., 22.62244894, 71.3791377, 9.0],\n",
       "       [0.0, 0.0, 0.0, ..., 19.78753869, 43.39457387, 1.0]], dtype=object)"
      ]
     },
     "execution_count": 13,
     "metadata": {},
     "output_type": "execute_result"
    }
   ],
   "source": [
    "# Column transform categorical columns (0, 1, 0 ...)\n",
    "ct = ColumnTransformer(transformers=[('encode', OneHotEncoder(), [4])], remainder='passthrough')\n",
    "X = ct.fit_transform(X)\n",
    "\n",
    "X"
   ]
  },
  {
   "cell_type": "code",
   "execution_count": 14,
   "metadata": {},
   "outputs": [
    {
     "data": {
      "text/plain": [
       "array([0.0, 1.0, 0.0, 0.0, 0.0, 7.567215991, 0.019643421, 5.414722979,\n",
       "       172.5103624, 0.028778173, 0.206780098, 0.424872971, 2.442587157,\n",
       "       149.2967975, 495.5623242, 3.882148975, 3.37e-05, 69.24749741,\n",
       "       10.14057688, 65.33090843, 16.0], dtype=object)"
      ]
     },
     "execution_count": 14,
     "metadata": {},
     "output_type": "execute_result"
    }
   ],
   "source": [
    "# Splitting the data set\n",
    "x_train, x_test, y_train, y_test = train_test_split(X, Y, test_size=0.2, random_state=1)\n",
    "x_train[0]"
   ]
  },
  {
   "cell_type": "code",
   "execution_count": 15,
   "metadata": {},
   "outputs": [
    {
     "name": "stdout",
     "output_type": "stream",
     "text": [
      "X TRAIN [0.0 1.0 0.0 0.0 0.0 0.1408904573263271 -0.2103070960014174\n",
      " -0.2150394345896286 -0.13995091267580903 -0.5275610428430832\n",
      " -0.9348446020430538 -0.11482005730145783 0.6500644675829823\n",
      " 0.07498904697418717 0.38011355492738697 0.9021391562886674\n",
      " -0.20926001552954823 -1.2651858332440258 -0.7900219418667164\n",
      " 0.29651709560112804 0.031392933494053296]\n",
      "Y TRAIN [0. 1. 0. ... 0. 0. 1.]\n"
     ]
    }
   ],
   "source": [
    "# Normalize input values\n",
    "\n",
    "sc = StandardScaler()  # range: -3 to +3\n",
    "x_train[:, 5:] = sc.fit_transform(x_train[:, 5:])\n",
    "x_test[:, 5:] = sc.transform(x_test[:, 5:])\n",
    "\n",
    "print(\"X TRAIN\", x_train[0])\n",
    "print(\"Y TRAIN\", y_train)"
   ]
  },
  {
   "cell_type": "markdown",
   "metadata": {},
   "source": [
    "### Calculate recall, accuracy, precision and F1 of trained_RDF_model_3"
   ]
  },
  {
   "cell_type": "code",
   "execution_count": 16,
   "metadata": {},
   "outputs": [],
   "source": [
    "# from sklearn.metrics import precision_score, recall_score\n",
    "# from sklearn.metrics import f1_score\n",
    "\n",
    "# classifier = joblib.load('trained_RDF_model_3.joblib')\n",
    "\n",
    "# y_pred_rdf = classifier.predict(x_test)\n",
    "# print(y_pred_rdf)\n",
    "\n",
    "# # Assuming y_true contains the true labels and y_pred contains the predicted labels\n",
    "# precision = precision_score(y_test, y_pred_rdf)\n",
    "# recall = recall_score(y_test, y_pred_rdf)\n",
    "# f1 = f1_score(y_test, y_pred_rdf)\n",
    "\n",
    "# print(\"F1 Score:\", f1)\n",
    "\n",
    "# print(\"Precision:\", precision)\n",
    "# print(\"Recall:\", recall)"
   ]
  },
  {
   "cell_type": "markdown",
   "metadata": {},
   "source": [
    "### Create the Logistic Regression classification model"
   ]
  },
  {
   "cell_type": "code",
   "execution_count": 17,
   "metadata": {},
   "outputs": [],
   "source": [
    "# lr_classifier = LogisticRegression(random_state=0)\n",
    "# lr_classifier.fit(x_train, y_train)"
   ]
  },
  {
   "cell_type": "code",
   "execution_count": 18,
   "metadata": {},
   "outputs": [],
   "source": [
    "# save the trained model\n",
    "# joblib.dump(lr_classifier, 'trained_LR_model.joblib')"
   ]
  },
  {
   "cell_type": "code",
   "execution_count": 19,
   "metadata": {},
   "outputs": [],
   "source": [
    "# y_pred_lr = lr_classifier.predict(x_test)"
   ]
  },
  {
   "cell_type": "code",
   "execution_count": 20,
   "metadata": {},
   "outputs": [],
   "source": [
    "# np.set_printoptions(precision=2)\n",
    "# print(np.concatenate([y_pred_lr.reshape(len(y_pred_lr), 1), y_test.reshape(len(y_test), 1)], axis=1))"
   ]
  },
  {
   "cell_type": "code",
   "execution_count": 21,
   "metadata": {},
   "outputs": [],
   "source": [
    "# confMatrix = confusion_matrix(y_test, y_pred_lr)\n",
    "# print(confMatrix)"
   ]
  },
  {
   "cell_type": "code",
   "execution_count": 22,
   "metadata": {},
   "outputs": [],
   "source": [
    "# lr_model_accuracy = accuracy_score(y_test, y_pred_lr)\n",
    "# print(lr_model_accuracy)"
   ]
  },
  {
   "cell_type": "markdown",
   "metadata": {},
   "source": [
    "### Create the Support Vector Machine classification model"
   ]
  },
  {
   "cell_type": "code",
   "execution_count": 23,
   "metadata": {},
   "outputs": [],
   "source": [
    "# support vector classifier\n",
    "# svm_classifier = SVC(kernel='linear', random_state=0)  # default is rbf\n",
    "# svm_classifier.fit(x_train, y_train)"
   ]
  },
  {
   "cell_type": "code",
   "execution_count": 24,
   "metadata": {},
   "outputs": [],
   "source": [
    "# save the trained model\n",
    "# joblib.dump(svm_classifier, 'trained_SVM_model.joblib')"
   ]
  },
  {
   "cell_type": "code",
   "execution_count": 25,
   "metadata": {},
   "outputs": [],
   "source": [
    "# y_pred_svm = svm_classifier.predict(x_test)"
   ]
  },
  {
   "cell_type": "code",
   "execution_count": 26,
   "metadata": {},
   "outputs": [],
   "source": [
    "# confMatrix = confusion_matrix(y_test, y_pred_svm)\n",
    "# print(confMatrix)"
   ]
  },
  {
   "cell_type": "code",
   "execution_count": 27,
   "metadata": {},
   "outputs": [],
   "source": [
    "# svm_model_accuracy = accuracy_score(y_test, y_pred_svm)\n",
    "# print(svm_model_accuracy)"
   ]
  },
  {
   "cell_type": "markdown",
   "metadata": {},
   "source": [
    "### Create the K-Nearest Neighbour classification model"
   ]
  },
  {
   "cell_type": "code",
   "execution_count": 28,
   "metadata": {},
   "outputs": [],
   "source": [
    "# knn_classifier = KNeighborsClassifier(n_neighbors=5, metric='minkowski', p=2)  # classic euclidean distance\n",
    "# knn_classifier.fit(x_train, y_train)"
   ]
  },
  {
   "cell_type": "code",
   "execution_count": 29,
   "metadata": {},
   "outputs": [],
   "source": [
    "# save the trained model\n",
    "# joblib.dump(knn_classifier, 'trained_KNN_model.joblib')"
   ]
  },
  {
   "cell_type": "code",
   "execution_count": 30,
   "metadata": {},
   "outputs": [],
   "source": [
    "# y_pred_knn = knn_classifier.predict(x_test)"
   ]
  },
  {
   "cell_type": "code",
   "execution_count": 31,
   "metadata": {},
   "outputs": [],
   "source": [
    "# knn_model_accuracy = accuracy_score(y_test, y_pred_knn)\n",
    "# print(knn_model_accuracy)"
   ]
  },
  {
   "cell_type": "markdown",
   "metadata": {},
   "source": [
    "### Create the decision tree classification model"
   ]
  },
  {
   "cell_type": "code",
   "execution_count": 32,
   "metadata": {},
   "outputs": [],
   "source": [
    "# from sklearn.tree import DecisionTreeClassifier\n",
    "\n",
    "# dtree_classifier = DecisionTreeClassifier(criterion='gini', random_state=0)\n",
    "# dtree_classifier.fit(x_train, y_train)"
   ]
  },
  {
   "cell_type": "code",
   "execution_count": 33,
   "metadata": {},
   "outputs": [],
   "source": [
    "# save the trained model\n",
    "# joblib.dump(dtree_classifier, 'trained_DTR_model.joblib')"
   ]
  },
  {
   "cell_type": "code",
   "execution_count": 34,
   "metadata": {},
   "outputs": [],
   "source": [
    "# y_pred_dtree = dtree_classifier.predict(x_test)"
   ]
  },
  {
   "cell_type": "code",
   "execution_count": 35,
   "metadata": {},
   "outputs": [],
   "source": [
    "# dtc_model_accuracy = accuracy_score(y_test, y_pred_dtree)\n",
    "# print(dtc_model_accuracy)"
   ]
  },
  {
   "cell_type": "markdown",
   "metadata": {},
   "source": [
    "### Create the random forest classification model"
   ]
  },
  {
   "cell_type": "code",
   "execution_count": 36,
   "metadata": {},
   "outputs": [
    {
     "data": {
      "text/html": [
       "<style>#sk-container-id-1 {color: black;}#sk-container-id-1 pre{padding: 0;}#sk-container-id-1 div.sk-toggleable {background-color: white;}#sk-container-id-1 label.sk-toggleable__label {cursor: pointer;display: block;width: 100%;margin-bottom: 0;padding: 0.3em;box-sizing: border-box;text-align: center;}#sk-container-id-1 label.sk-toggleable__label-arrow:before {content: \"▸\";float: left;margin-right: 0.25em;color: #696969;}#sk-container-id-1 label.sk-toggleable__label-arrow:hover:before {color: black;}#sk-container-id-1 div.sk-estimator:hover label.sk-toggleable__label-arrow:before {color: black;}#sk-container-id-1 div.sk-toggleable__content {max-height: 0;max-width: 0;overflow: hidden;text-align: left;background-color: #f0f8ff;}#sk-container-id-1 div.sk-toggleable__content pre {margin: 0.2em;color: black;border-radius: 0.25em;background-color: #f0f8ff;}#sk-container-id-1 input.sk-toggleable__control:checked~div.sk-toggleable__content {max-height: 200px;max-width: 100%;overflow: auto;}#sk-container-id-1 input.sk-toggleable__control:checked~label.sk-toggleable__label-arrow:before {content: \"▾\";}#sk-container-id-1 div.sk-estimator input.sk-toggleable__control:checked~label.sk-toggleable__label {background-color: #d4ebff;}#sk-container-id-1 div.sk-label input.sk-toggleable__control:checked~label.sk-toggleable__label {background-color: #d4ebff;}#sk-container-id-1 input.sk-hidden--visually {border: 0;clip: rect(1px 1px 1px 1px);clip: rect(1px, 1px, 1px, 1px);height: 1px;margin: -1px;overflow: hidden;padding: 0;position: absolute;width: 1px;}#sk-container-id-1 div.sk-estimator {font-family: monospace;background-color: #f0f8ff;border: 1px dotted black;border-radius: 0.25em;box-sizing: border-box;margin-bottom: 0.5em;}#sk-container-id-1 div.sk-estimator:hover {background-color: #d4ebff;}#sk-container-id-1 div.sk-parallel-item::after {content: \"\";width: 100%;border-bottom: 1px solid gray;flex-grow: 1;}#sk-container-id-1 div.sk-label:hover label.sk-toggleable__label {background-color: #d4ebff;}#sk-container-id-1 div.sk-serial::before {content: \"\";position: absolute;border-left: 1px solid gray;box-sizing: border-box;top: 0;bottom: 0;left: 50%;z-index: 0;}#sk-container-id-1 div.sk-serial {display: flex;flex-direction: column;align-items: center;background-color: white;padding-right: 0.2em;padding-left: 0.2em;position: relative;}#sk-container-id-1 div.sk-item {position: relative;z-index: 1;}#sk-container-id-1 div.sk-parallel {display: flex;align-items: stretch;justify-content: center;background-color: white;position: relative;}#sk-container-id-1 div.sk-item::before, #sk-container-id-1 div.sk-parallel-item::before {content: \"\";position: absolute;border-left: 1px solid gray;box-sizing: border-box;top: 0;bottom: 0;left: 50%;z-index: -1;}#sk-container-id-1 div.sk-parallel-item {display: flex;flex-direction: column;z-index: 1;position: relative;background-color: white;}#sk-container-id-1 div.sk-parallel-item:first-child::after {align-self: flex-end;width: 50%;}#sk-container-id-1 div.sk-parallel-item:last-child::after {align-self: flex-start;width: 50%;}#sk-container-id-1 div.sk-parallel-item:only-child::after {width: 0;}#sk-container-id-1 div.sk-dashed-wrapped {border: 1px dashed gray;margin: 0 0.4em 0.5em 0.4em;box-sizing: border-box;padding-bottom: 0.4em;background-color: white;}#sk-container-id-1 div.sk-label label {font-family: monospace;font-weight: bold;display: inline-block;line-height: 1.2em;}#sk-container-id-1 div.sk-label-container {text-align: center;}#sk-container-id-1 div.sk-container {/* jupyter's `normalize.less` sets `[hidden] { display: none; }` but bootstrap.min.css set `[hidden] { display: none !important; }` so we also need the `!important` here to be able to override the default hidden behavior on the sphinx rendered scikit-learn.org. See: https://github.com/scikit-learn/scikit-learn/issues/21755 */display: inline-block !important;position: relative;}#sk-container-id-1 div.sk-text-repr-fallback {display: none;}</style><div id=\"sk-container-id-1\" class=\"sk-top-container\"><div class=\"sk-text-repr-fallback\"><pre>RandomForestClassifier(criterion=&#x27;entropy&#x27;, random_state=0)</pre><b>In a Jupyter environment, please rerun this cell to show the HTML representation or trust the notebook. <br />On GitHub, the HTML representation is unable to render, please try loading this page with nbviewer.org.</b></div><div class=\"sk-container\" hidden><div class=\"sk-item\"><div class=\"sk-estimator sk-toggleable\"><input class=\"sk-toggleable__control sk-hidden--visually\" id=\"sk-estimator-id-1\" type=\"checkbox\" checked><label for=\"sk-estimator-id-1\" class=\"sk-toggleable__label sk-toggleable__label-arrow\">RandomForestClassifier</label><div class=\"sk-toggleable__content\"><pre>RandomForestClassifier(criterion=&#x27;entropy&#x27;, random_state=0)</pre></div></div></div></div></div>"
      ],
      "text/plain": [
       "RandomForestClassifier(criterion='entropy', random_state=0)"
      ]
     },
     "execution_count": 36,
     "metadata": {},
     "output_type": "execute_result"
    }
   ],
   "source": [
    "from sklearn.ensemble import RandomForestClassifier\n",
    "rfc_classifier = RandomForestClassifier(n_estimators = 100, criterion='entropy', random_state = 0)\n",
    "rfc_classifier.fit(x_train, y_train)"
   ]
  },
  {
   "cell_type": "code",
   "execution_count": 37,
   "metadata": {},
   "outputs": [
    {
     "data": {
      "text/plain": [
       "['trained_RDF_model_5.joblib']"
      ]
     },
     "execution_count": 37,
     "metadata": {},
     "output_type": "execute_result"
    }
   ],
   "source": [
    "# save the trained model\n",
    "joblib.dump(rfc_classifier, 'trained_RDF_model_5.joblib')"
   ]
  },
  {
   "cell_type": "code",
   "execution_count": 38,
   "metadata": {},
   "outputs": [],
   "source": [
    "y_pred_rdf = rfc_classifier.predict(x_test)"
   ]
  },
  {
   "cell_type": "code",
   "execution_count": 39,
   "metadata": {},
   "outputs": [
    {
     "name": "stdout",
     "output_type": "stream",
     "text": [
      "0.8693443443443444\n"
     ]
    }
   ],
   "source": [
    "rfc_model_accuracy = accuracy_score(y_test, y_pred_rdf)\n",
    "print(rfc_model_accuracy)\n",
    "\n",
    "# Accuracy\n",
    "\n",
    "# remove missing values - 0.8642686209991026\n",
    "# remove missing of categorical and replace others with median - 0.87615241140421"
   ]
  },
  {
   "cell_type": "markdown",
   "metadata": {},
   "source": [
    "### Preprocess the input data"
   ]
  },
  {
   "cell_type": "code",
   "execution_count": null,
   "metadata": {},
   "outputs": [],
   "source": [
    "# values = [7.66857169, 7.06e-08, 7.541255359, 198.1312335, 1.31e-95,\n",
    "#        0.767179279, 'Colorless', 0.137766996, 1.008886456, 2.391833449,\n",
    "#        0.750761234, 148.9474344, 242.7039915, 3.709734571, 2.301398715,\n",
    "#        100.9851033, 'Stream', 9.674425593, 35.25315137, 12.0, 1.0]\n",
    "\n",
    "classifier = joblib.load('trained_RDF_model_3.joblib')\n",
    "values = [1, 7.06e-08, 7.541255359, 198.1312335, 1.31e-95,\n",
    "       0.767179279, 'Colorless', 0.137766996, 1.008886456, 2.391833449,\n",
    "       0.750761234, 148.9474344, 242.7039915, 3.709734571, 2.301398715,\n",
    "       100.9851033, 'Stream', 9.674425593, 35.25315137, 12.0, 1.0]\n",
    "\n",
    "# Convert the input values to a DataFrame\n",
    "input_data = pd.DataFrame([values])\n",
    "\n",
    "# Preprocess the input data\n",
    "input_data = input_data.values  # Convert to NumPy array\n",
    "\n",
    "# label encode the values\n",
    "input_data[:, 6] = le1.transform(input_data[:, 6])\n",
    "input_data[:, 16] = le2.transform(input_data[:, 16])\n",
    "\n",
    "# column transform the values\n",
    "input_data = ct1.transform(input_data)\n",
    "input_data = ct2.transform(input_data)\n",
    "\n",
    "# scale the values\n",
    "input_data[:, 13:] = sc.transform(input_data[:, 13:])\n",
    "\n",
    "# print(input_data)\n",
    "\n",
    "y_single = classifier.predict(input_data)\n",
    "\n",
    "print(y_single[0])"
   ]
  },
  {
   "cell_type": "code",
   "execution_count": null,
   "metadata": {},
   "outputs": [],
   "source": [
    "# y_single = rfc_classifier.predict(input_data)\n",
    "\n",
    "# print(y_single[0])"
   ]
  },
  {
   "cell_type": "markdown",
   "metadata": {},
   "source": [
    "### Check overfitting"
   ]
  },
  {
   "cell_type": "code",
   "execution_count": null,
   "metadata": {},
   "outputs": [],
   "source": [
    "train_sizes, train_scores, test_scores = learning_curve(\n",
    "    classifier, x_train, y_train, cv=5, scoring='accuracy', n_jobs=-1)\n",
    "\n",
    "train_scores_mean = np.mean(train_scores, axis=1)\n",
    "test_scores_mean = np.mean(test_scores, axis=1)\n",
    "\n",
    "plt.figure(figsize=(10, 6))\n",
    "plt.title(\"Learning Curve\")\n",
    "plt.xlabel(\"Training Examples\")\n",
    "plt.ylabel(\"Accuracy\")\n",
    "plt.plot(train_sizes, train_scores_mean, 'o-', color=\"r\", label=\"Training Accuracy\")\n",
    "plt.plot(train_sizes, test_scores_mean, 'o-', color=\"g\", label=\"Test Accuracy\")\n",
    "plt.legend(loc=\"best\")\n",
    "plt.grid()\n",
    "plt.show()"
   ]
  },
  {
   "cell_type": "markdown",
   "metadata": {},
   "source": [
    "## CONCLUSIONS"
   ]
  },
  {
   "cell_type": "code",
   "execution_count": null,
   "metadata": {},
   "outputs": [],
   "source": [
    "# print(\"ACCURACY SCORES OF EACH MODEL\\n\")\n",
    "\n",
    "# print(\"Logistic Regression Classifier\\t\", round(lr_model_accuracy * 100, 2))\n",
    "# print(\"SVM Classifier\\t\\t\\t\", round(svm_model_accuracy * 100, 2))\n",
    "# print(\"K-NN Classifier\\t\\t\\t\", round(knn_model_accuracy * 100, 2))\n",
    "# print(\"Decision Tree Classifier\\t\", round(dtc_model_accuracy * 100, 2))\n",
    "# print(\"Random Forest Classifier\\t\", round(rfc_model_accuracy * 100, 2))"
   ]
  }
 ],
 "metadata": {
  "kernelspec": {
   "display_name": "Python 3",
   "language": "python",
   "name": "python3"
  },
  "language_info": {
   "codemirror_mode": {
    "name": "ipython",
    "version": 3
   },
   "file_extension": ".py",
   "mimetype": "text/x-python",
   "name": "python",
   "nbconvert_exporter": "python",
   "pygments_lexer": "ipython3",
   "version": "3.11.3"
  },
  "orig_nbformat": 4
 },
 "nbformat": 4,
 "nbformat_minor": 2
}
